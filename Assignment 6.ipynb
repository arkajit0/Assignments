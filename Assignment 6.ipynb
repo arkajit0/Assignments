{
 "cells": [
  {
   "cell_type": "markdown",
   "metadata": {},
   "source": [
    "#### Problem 1\n",
    "What are escape characters, and how do you use them?\n",
    "\n",
    "Answer:<br>\n",
    "To insert characters that are illegal in a string, use an escape character. An escape character is a backslash \\ followed by the character you want to insert."
   ]
  },
  {
   "cell_type": "markdown",
   "metadata": {},
   "source": [
    "#### Problem 2\n",
    "What do the escape characters n and t stand for?\n",
    "\n",
    "Answer:\n",
    "In Python strings, the backslash \"\\\" is a special character, also called the \"escape\" character. It is used in representing certain whitespace characters: \"\\t\" is a tab, \"\\n\" is a newline."
   ]
  },
  {
   "cell_type": "markdown",
   "metadata": {},
   "source": [
    "#### Problem 3\n",
    "What is the way to include backslash characters in a string?\n",
    "\n",
    "Answer:<br>\n",
    "The syntax \"\\\\\" within the string literal to represent a single backslash."
   ]
  },
  {
   "cell_type": "markdown",
   "metadata": {},
   "source": [
    "#### Problem 4\n",
    "The string &quot;Howl&#39;s Moving Castle&quot; is a correct value. Why isn&#39;t the single quote character in the\n",
    "word Howl&#39;s not escaped a problem?\n",
    "\n",
    "Answer:<br>\n",
    "The single quote in Howl's is fine because we have used double quotes to mark the beginning and end of the string."
   ]
  },
  {
   "cell_type": "markdown",
   "metadata": {},
   "source": [
    "#### Problem 5\n",
    "How do you write a string of newlines if you don&#39;t want to use the n character?\n",
    "\n",
    "Answer:<br>\n",
    "Multiline strings allows to use newlines in strings without the \\n escape character."
   ]
  },
  {
   "cell_type": "markdown",
   "metadata": {},
   "source": [
    "#### Problem 6\n",
    "What are the values of the given expressions?<br>\n",
    "&#39;Hello, world!&#39;[1]<br>\n",
    "&#39;Hello, world!&#39;[0:5]<br>\n",
    "&#39;Hello, world!&#39;[:5]<br>\n",
    "&#39;Hello, world!&#39;[3:]<br>\n",
    "\n",
    "Answer:<br>\n",
    "1. 'e'\n",
    "2. 'Hello'\n",
    "3. 'Hello'\n",
    "4. 'lo world!"
   ]
  },
  {
   "cell_type": "markdown",
   "metadata": {},
   "source": [
    "#### Problem 7\n",
    "What are the values of the following expressions?<br>\n",
    "&#39;Hello&#39;.upper()<br>\n",
    "&#39;Hello&#39;.upper().isupper()<br>\n",
    "&#39;Hello&#39;.upper().lower()<br>\n",
    "\n",
    "Answer:<br>\n",
    "1. 'HELLO'\n",
    "2. True\n",
    "3. 'hello'"
   ]
  },
  {
   "cell_type": "markdown",
   "metadata": {},
   "source": [
    "#### Problem 8\n",
    "What are the values of the following expressions?<br>\n",
    "&#39;Remember, remember, the fifth of July.&#39;.split()<br>\n",
    "&#39;-&#39;.join(&#39;There can only one.&#39;.split())\n",
    "\n",
    "Answer:<br>\n",
    "1. ['Remember,', 'remember,', 'the', 'fifth', 'of', 'November.']\n",
    "2. 'There-can-be-only-one."
   ]
  },
  {
   "cell_type": "markdown",
   "metadata": {},
   "source": [
    "#### Problem 9\n",
    "What are the methods for right-justifying, left-justifying, and centering a string?\n",
    "\n",
    "Answer:<br>\n",
    "we can use rjust(), ljust() and center() string method respectively."
   ]
  },
  {
   "cell_type": "markdown",
   "metadata": {},
   "source": [
    "#### Problem 10\n",
    "What is the best way to remove whitespace characters from the start or end?\n",
    "\n",
    "Answer:<br>\n",
    "rstrip() and and lstrip()<br>\n",
    "or simply we can use strip() to do both at the same time."
   ]
  }
 ],
 "metadata": {
  "kernelspec": {
   "display_name": "Python 3",
   "language": "python",
   "name": "python3"
  },
  "language_info": {
   "codemirror_mode": {
    "name": "ipython",
    "version": 3
   },
   "file_extension": ".py",
   "mimetype": "text/x-python",
   "name": "python",
   "nbconvert_exporter": "python",
   "pygments_lexer": "ipython3",
   "version": "3.7.7"
  }
 },
 "nbformat": 4,
 "nbformat_minor": 4
}
