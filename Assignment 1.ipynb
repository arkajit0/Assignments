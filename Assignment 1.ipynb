{
 "cells": [
  {
   "cell_type": "markdown",
   "metadata": {},
   "source": [
    "#### Problem 1\n",
    "In the below elements which of them are values or an expression? eg:- values can be\n",
    "integer or string and expressions will be mathematical operators.\n",
    "- *\n",
    "- &#39;hello&#39;\n",
    "- -87.8\n",
    "- -\n",
    "- /\n",
    "- +\n",
    "- 6\n",
    "\n",
    "Answer:\n",
    "-  &#39;*&#39; = expression\n",
    "- &#39;hello&#39; = values\n",
    "- -87.8 = values\n",
    "- &#39;-&#39; = expression\n",
    "- / = expression\n",
    "- &#39;+&#39; = expression\n",
    "- 6 = values"
   ]
  },
  {
   "cell_type": "markdown",
   "metadata": {},
   "source": [
    "#### Problem 2\n",
    "What is the difference between string and variable?\n",
    "\n",
    "Answer:<br>\n",
    "A Variable is a store of information, and a String is a type of information that would store in a Variable. "
   ]
  },
  {
   "cell_type": "markdown",
   "metadata": {},
   "source": [
    "#### Problem 3\n",
    "Describe three different data types.\n",
    "\n",
    "Answer:\n",
    "- Integer(int) : This is a datatype which only consists of non decimal numbers. Eg: 1, 2, 124 etc.\n",
    "- String(str)  : This is a datatype which only consists of text, alphabets that are written in single or double quotes even number become string if it is written in quotes. Eg: \"abcr\", \"123\" etc.\n",
    "- Boolean(bool): This is a datatype which only consists of True and False."
   ]
  },
  {
   "cell_type": "markdown",
   "metadata": {},
   "source": [
    "#### Problem 4\n",
    "What is an expression made up of? What do all expressions do?\n",
    "\n",
    "Answer:<br>\n",
    "An expression is a construct made up of variables, operators, and method invocations, which are constructed according to the syntax of the language, that evaluates to a single value.\n",
    "\n",
    " An expression can return other types of values, such as boolean or String ."
   ]
  },
  {
   "cell_type": "markdown",
   "metadata": {},
   "source": [
    "#### Problem 5\n",
    "This assignment statements, like spam = 10. What is the difference between an\n",
    "expression and a statement?\n",
    "\n",
    "Answer:<br>\n",
    "Statements represent an action or command e.g print statements, assignment statements. Expression is a combination of variables, operations and values that yields a result value."
   ]
  },
  {
   "cell_type": "markdown",
   "metadata": {},
   "source": [
    "#### Problem 6\n",
    "After running the following code, what does the variable bacon contain?<br>\n",
    "bacon = 22<br>\n",
    "bacon + 1\n",
    "\n",
    "Answer:<br>\n",
    "After running bacon=22."
   ]
  },
  {
   "cell_type": "markdown",
   "metadata": {},
   "source": [
    "#### Problem 7\n",
    "What should the values of the following two terms be?<br>\n",
    "&#39;spam&#39; + &#39;spamspam&#39;<br>\n",
    "&#39;spam&#39; * 3\n",
    "\n",
    "Answer:<br>\n",
    "'spamspamspam'<br>\n",
    "'spamspamspam'"
   ]
  },
  {
   "cell_type": "markdown",
   "metadata": {},
   "source": [
    "#### Problem 8\n",
    "Why is eggs a valid variable name while 100 is invalid?\n",
    "\n",
    "Answer:<br>\n",
    "Because variable names cannot begin with numeric."
   ]
  },
  {
   "cell_type": "markdown",
   "metadata": {},
   "source": [
    "#### Problem 9\n",
    "What three functions can be used to get the integer, floating-point number, or string\n",
    "version of a value?\n",
    "\n",
    "Answer:<br>\n",
    "- int(): integer\n",
    "- float(): float\n",
    "- str(): string"
   ]
  },
  {
   "cell_type": "markdown",
   "metadata": {},
   "source": [
    "#### Problem 10\n",
    "Why does this expression cause an error? How can you fix it?<br>\n",
    "&#39;I have eaten &#39; + 99 + &#39; burritos.&#39;\n",
    "\n",
    "Answer:<br>\n",
    "Operations work only on same datatypes. As 99 is an integer so it is giving an error when adding to string.<br>\n",
    "Fix Expression:<br>\n",
    "&#39;I have eaten &#39; + &#39;99&#39; + &#39; burritos.&#39;"
   ]
  }
 ],
 "metadata": {
  "kernelspec": {
   "display_name": "Python 3",
   "language": "python",
   "name": "python3"
  },
  "language_info": {
   "codemirror_mode": {
    "name": "ipython",
    "version": 3
   },
   "file_extension": ".py",
   "mimetype": "text/x-python",
   "name": "python",
   "nbconvert_exporter": "python",
   "pygments_lexer": "ipython3",
   "version": "3.7.7"
  }
 },
 "nbformat": 4,
 "nbformat_minor": 4
}
