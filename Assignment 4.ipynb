{
 "cells": [
  {
   "cell_type": "markdown",
   "metadata": {},
   "source": [
    "#### Problem 1\n",
    "What exactly is []?\n",
    "\n",
    "Answer:<br>\n",
    "We can use the index operator [] to access an item in a list. In Python, indices start at 0. So, a list having 5 elements will have an index from 0 to 4."
   ]
  },
  {
   "cell_type": "markdown",
   "metadata": {},
   "source": [
    "#### Problem 2\n",
    "In a list of values stored in a variable called spam, how would you assign the value &#39;hello&#39; as the\n",
    "third value? (Assume [2, 4, 6, 8, 10] are in spam.)<br>\n",
    "\n",
    "Answer:<br>\n",
    "spam[2] = 'hello'"
   ]
  },
  {
   "cell_type": "markdown",
   "metadata": {},
   "source": [
    "Let&#39;s pretend the spam includes the list [&#39;a&#39;, &#39;b&#39;, &#39;c&#39;, &#39;d&#39;] for the next three queries."
   ]
  },
  {
   "cell_type": "markdown",
   "metadata": {},
   "source": [
    "#### Problem 3\n",
    "What is the value of spam[int(int(&#39;3&#39; * 2) / 11)]?\n",
    "\n",
    "Answer:<br>\n",
    "The value is 'd'."
   ]
  },
  {
   "cell_type": "markdown",
   "metadata": {},
   "source": [
    "#### Problem 4\n",
    "What is the value of spam[-1]?\n",
    "\n",
    "Answer:<br>\n",
    "The value is 'd'."
   ]
  },
  {
   "cell_type": "markdown",
   "metadata": {},
   "source": [
    "#### Problem 5\n",
    "What is the value of spam[:2]?\n",
    "\n",
    "Answer:<br>\n",
    "The value is ['a', 'b']."
   ]
  },
  {
   "cell_type": "markdown",
   "metadata": {},
   "source": [
    "Let&#39;s pretend bacon has the list [3.14, &#39;cat,&#39; 11, &#39;cat,&#39; True] for the next three questions."
   ]
  },
  {
   "cell_type": "markdown",
   "metadata": {},
   "source": [
    "#### Problem 6\n",
    "What is the value of bacon.index(&#39;cat&#39;)?\n",
    "\n",
    "Answer:<br>\n",
    "The value is 1."
   ]
  },
  {
   "cell_type": "markdown",
   "metadata": {},
   "source": [
    "#### Problem 7\n",
    "How does bacon.append(99) change the look of the list value in bacon?\n",
    "\n",
    "Answer:<br>\n",
    "It adds 99 at the end of list <br>\n",
    "[3.14, 'cat', 11, 'cat', True, 99]"
   ]
  },
  {
   "cell_type": "markdown",
   "metadata": {},
   "source": [
    "#### Problem 8\n",
    "How does bacon.remove(&#39;cat&#39;) change the look of the list in bacon?\n",
    "\n",
    "Answer:<br>\n",
    "It removes the varible 'cat' from list in first occurence.<br>\n",
    "[3.14, 11, 'cat', True]"
   ]
  },
  {
   "cell_type": "markdown",
   "metadata": {},
   "source": [
    "#### Problem 9\n",
    "What are the list concatenation and list replication operators?\n",
    "\n",
    "Answer:<br>\n",
    "The operator for list concatenation is +, while the operator for replication is *."
   ]
  },
  {
   "cell_type": "markdown",
   "metadata": {},
   "source": [
    "#### Problem 10\n",
    "What is difference between the list methods append() and insert()?\n",
    "\n",
    "Answer:<br>\n",
    "The difference is that with append, we just add a new entry at the end of the list. With insert(position, new_entry) we can create a new entry exactly in the position we want."
   ]
  },
  {
   "cell_type": "markdown",
   "metadata": {},
   "source": [
    "#### Problem 11\n",
    "What are the two methods for removing items from a list?\n",
    "\n",
    "Answer:<br>\n",
    "The list methods remove(), and pop() are meant to remove a single element."
   ]
  },
  {
   "cell_type": "markdown",
   "metadata": {},
   "source": [
    "#### Problem 12\n",
    "Describe how list values and string values are identical.\n",
    "\n",
    "Answer:<br>\n",
    " Lists are similar to strings, which are ordered collections of characters."
   ]
  },
  {
   "cell_type": "markdown",
   "metadata": {},
   "source": [
    "#### Problem 13\n",
    "What&#39;s the difference between tuples and lists?\n",
    "\n",
    "Answer:<br>\n",
    "1. Lists are mutable but Tuples are immutable.\n",
    "2. Implication of iterations in Lists is Time-consuming\tbut in Tuples the implication of iterations is comparatively Faster\n",
    "3. The list is better for performing operations, such as insertion and deletion.\t<br>\n",
    "Tuple data type is appropriate for accessing the elements\n",
    "4. Lists consume more memory but Tuple consume less memory as compared to the list\n",
    "5. Lists have several built-in methods but Tuple does not have many built-in methods.\n",
    "6. The unexpected changes and errors are more likely to occur in Lists but In tuple, it is hard to take place."
   ]
  },
  {
   "cell_type": "markdown",
   "metadata": {},
   "source": [
    "#### Problem 14\n",
    "How do you type a tuple value that only contains the integer 42?\n",
    "\n",
    "Answer:<br>\n",
    "(42,)"
   ]
  },
  {
   "cell_type": "markdown",
   "metadata": {},
   "source": [
    "#### Problem 15\n",
    "How do you get a list value&#39;s tuple form? How do you get a tuple value&#39;s list form?\n",
    "\n",
    "Answer:<br>\n",
    "list value&#39;s tuple form<br>\n",
    "[(2,4), ('a','b')]<br><br>\n",
    "tuple value&#39;s list form<br>\n",
    "([1, 3], ['a', 'b'])"
   ]
  },
  {
   "cell_type": "markdown",
   "metadata": {},
   "source": [
    "#### Problem 16\n",
    "Variables that &quot;contain&quot; list values are not necessarily lists themselves. Instead, what do they\n",
    "contain?\n",
    "\n",
    "Answer:<br>\n",
    "They contain string, tuples, integers, floats etc"
   ]
  },
  {
   "cell_type": "markdown",
   "metadata": {},
   "source": [
    "#### Problem 17\n",
    "How do you distinguish between copy.copy() and copy.deepcopy()?\n",
    "\n",
    "Answer:<br>\n",
    "copy.copy()<br>\n",
    "A shallow copy constructs a new compound object and then (to the extent possible) inserts references into it to the objects found in the original.<br>\n",
    "copy.deepcopy()<br>\n",
    "A deep copy constructs a new compound object and then, recursively, inserts copies into it of the objects found in the original."
   ]
  }
 ],
 "metadata": {
  "kernelspec": {
   "display_name": "Python 3",
   "language": "python",
   "name": "python3"
  },
  "language_info": {
   "codemirror_mode": {
    "name": "ipython",
    "version": 3
   },
   "file_extension": ".py",
   "mimetype": "text/x-python",
   "name": "python",
   "nbconvert_exporter": "python",
   "pygments_lexer": "ipython3",
   "version": "3.7.7"
  }
 },
 "nbformat": 4,
 "nbformat_minor": 4
}
