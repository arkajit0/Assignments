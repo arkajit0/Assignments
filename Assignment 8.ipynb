{
 "cells": [
  {
   "cell_type": "markdown",
   "metadata": {},
   "source": [
    "#### Problem 1\n",
    "Is the Python Standard Library included with PyInputPlus?\n",
    "\n",
    "Answer:<br>\n",
    "PyInputPlus is not a part of the Python Standard Library, so one must install it separately using Pip."
   ]
  },
  {
   "cell_type": "markdown",
   "metadata": {},
   "source": [
    "#### Problem 2\n",
    "Why is PyInputPlus commonly imported with import pyinputplus as pypi?\n",
    "\n",
    "Answer:<br>\n",
    "We can import the module with import pyinputplus as pyip so that we can enter a shorter name when calling the module's functions. "
   ]
  },
  {
   "cell_type": "markdown",
   "metadata": {},
   "source": [
    "#### Problem 3:\n",
    "How do you distinguish between inputInt() and inputFloat()?\n",
    "\n",
    "Answer:<br>\n",
    "inputInt() : Accepts an integer value. This also takes additional parameters ‘min’, ‘max’, ‘greaterThan’ and ‘lessThan’  for bounds. Returns an int.<br>\n",
    "inputFloat() : Accepts a floating-point numeric value. Also takes additional ‘min’, ‘max’, ‘greaterThan’ and ‘lessThan’  parameters. Returns a float."
   ]
  },
  {
   "cell_type": "markdown",
   "metadata": {},
   "source": [
    "#### Problem 4\n",
    "Using PyInputPlus, how do you ensure that the user enters a whole number between 0 and 99?\n",
    "\n",
    "Answer:<br>\n",
    "pyip.inputInt(prompt = \"Enter an Integer::\", \n",
    "                    min=0, max=99)"
   ]
  },
  {
   "cell_type": "markdown",
   "metadata": {},
   "source": [
    "#### Problem 5\n",
    "What is transferred to the keyword arguments allowRegexes and blockRegexes?\n",
    "\n",
    "Answer:<br>\n",
    "We can set a list of regex strings to the allowRegexes parameter to the PyInputPlus functions. In the code above, we allow phone numbers to be entered as the input value by setting a list of regex with the phone number regex to it."
   ]
  },
  {
   "cell_type": "markdown",
   "metadata": {},
   "source": [
    "#### Problem 6\n",
    "If a blank input is entered three times, what does inputStr(limit=3) do?\n",
    "\n",
    "Answer:<br>\n",
    "pyinputplus.RetryLimitException"
   ]
  },
  {
   "cell_type": "markdown",
   "metadata": {},
   "source": [
    "#### Problem 7\n",
    "If blank input is entered three times, what does inputStr(limit=3, default=&#39;hello&#39;) do?\n",
    "\n",
    "Answer:<br>\n",
    "Instead of raising RetryLimitException, the inputStr() function simply returns the string &#39;hello&#39;."
   ]
  }
 ],
 "metadata": {
  "kernelspec": {
   "display_name": "Python 3",
   "language": "python",
   "name": "python3"
  },
  "language_info": {
   "codemirror_mode": {
    "name": "ipython",
    "version": 3
   },
   "file_extension": ".py",
   "mimetype": "text/x-python",
   "name": "python",
   "nbconvert_exporter": "python",
   "pygments_lexer": "ipython3",
   "version": "3.7.7"
  }
 },
 "nbformat": 4,
 "nbformat_minor": 4
}
