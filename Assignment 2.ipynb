{
 "cells": [
  {
   "cell_type": "markdown",
   "metadata": {},
   "source": [
    "#### Problem 1\n",
    "What are the two values of the Boolean data type? How do you write them?\n",
    "\n",
    "Answer:<br>\n",
    "The two values in boolean are True and False.<br>\n",
    "we write them by<br>\n",
    "bool(\"name\"==\"name\") which gives result True<br>\n",
    "bool(1==2) which gives result False"
   ]
  },
  {
   "cell_type": "markdown",
   "metadata": {},
   "source": [
    "#### Problem 2\n",
    "What are the three different types of Boolean operators?\n",
    "\n",
    "Answer:<br>\n",
    "- AND\n",
    "- OR\n",
    "- NOT"
   ]
  },
  {
   "cell_type": "markdown",
   "metadata": {},
   "source": [
    "#### Problem 3\n",
    "Make a list of each Boolean operator&#39;s truth tables (i.e. every possible combination of Boolean\n",
    "values for the operator and what it evaluate ).\n",
    "\n",
    "Answer:<br>\n",
    "AND<br>\n",
    "<table style=\"text-align:left\">\n",
    "  <tr>\n",
    "    <th>A</th>\n",
    "    <th>B</th> \n",
    "    <th>Result</th>\n",
    "  </tr>\n",
    "  <tr>\n",
    "  <th>0</th>\n",
    "    <th>0</th> \n",
    "    <th>0</th>\n",
    "  </tr>\n",
    "    <tr>\n",
    "  <th>0</th>\n",
    "    <th>1</th> \n",
    "    <th>0</th>\n",
    "  </tr>\n",
    "    <tr>\n",
    "  <th>1</th>\n",
    "    <th>0</th> \n",
    "    <th>0</th>\n",
    "  </tr>\n",
    "    <tr>\n",
    "  <th>1</th>\n",
    "    <th>1</th> \n",
    "    <th>1</th>\n",
    "  </tr>\n",
    "</table>\n",
    "<br>\n",
    "OR<br>\n",
    "<table style=\"text-align:left\">\n",
    "  <tr>\n",
    "    <th>A</th>\n",
    "    <th>B</th> \n",
    "    <th>Result</th>\n",
    "  </tr>\n",
    "  <tr>\n",
    "  <th>0</th>\n",
    "    <th>0</th> \n",
    "    <th>0</th>\n",
    "  </tr>\n",
    "    <tr>\n",
    "  <th>0</th>\n",
    "    <th>1</th> \n",
    "    <th>1</th>\n",
    "  </tr>\n",
    "    <tr>\n",
    "  <th>1</th>\n",
    "    <th>0</th> \n",
    "    <th>1</th>\n",
    "  </tr>\n",
    "    <tr>\n",
    "  <th>1</th>\n",
    "    <th>1</th> \n",
    "    <th>1</th>\n",
    "  </tr>\n",
    "</table>\n",
    "<br>\n",
    "NOT<br>\n",
    "<table style=\"text-align:left\">\n",
    "  <tr>\n",
    "    <th>A</th>\n",
    "    <th>Result</th> \n",
    "  </tr>\n",
    "  <tr>\n",
    "  <th>0</th>\n",
    "    <th>1</th> \n",
    "  </tr>\n",
    "    <tr>\n",
    "  <th>1</th>\n",
    "    <th>0</th> \n",
    "  </tr>\n",
    "</table>"
   ]
  },
  {
   "cell_type": "markdown",
   "metadata": {},
   "source": [
    "#### Problem 4\n",
    "What are the values of the following expressions?<br>\n",
    "(5 &gt; 4) and (3 == 5)<br>\n",
    "not (5 &gt; 4)<br>\n",
    "(5 &gt; 4) or (3 == 5)<br>\n",
    "not ((5 &gt; 4) or (3 == 5))<br>\n",
    "(True and True) and (True == False)<br>\n",
    "(not False) or (not True)<br>\n",
    "\n",
    "Answer:<br>\n",
    "(5 &gt; 4) and (3 == 5) --> False<br>\n",
    "not (5 &gt; 4) --> False <br>\n",
    "(5 &gt; 4) or (3 == 5) --> True <br>\n",
    "not ((5 &gt; 4) or (3 == 5)) --> False <br>\n",
    "(True and True) and (True == False) --> Fasle <br>\n",
    "(not False) or (not True) --> True <br>"
   ]
  },
  {
   "cell_type": "markdown",
   "metadata": {},
   "source": [
    "#### Problem 5\n",
    "What are the six comparison operators?\n",
    "\n",
    "Answer:<br>\n",
    "<, >, <=, >=, ==, !="
   ]
  },
  {
   "cell_type": "markdown",
   "metadata": {},
   "source": [
    "#### Problem 6\n",
    "How do you tell the difference between the equal to and assignment operators?Describe a\n",
    "condition and when you would use one.\n",
    "\n",
    "Answer:<br>\n",
    "The = is an assignment operator is used to assign the value on the right to the variable on the left. The == operator checks whether the two given operands are equal or not. If so, it returns true. Otherwise it returns false.\n",
    "\n",
    "var = \"string\"<br>\n",
    "if(var==\"string):<br>\n",
    "&nbsp;    print(\"true\")"
   ]
  },
  {
   "cell_type": "markdown",
   "metadata": {},
   "source": [
    "#### Problem 7\n",
    "Identify the three blocks in this code:<br>\n",
    "spam = 0<br>\n",
    "if spam == 10:<br>\n",
    "print(&#39;eggs&#39;)<br>\n",
    "if spam &gt; 5:<br>\n",
    "print(&#39;bacon&#39;)<br>\n",
    "else:<br>\n",
    "print(&#39;ham&#39;)<br>\n",
    "print(&#39;spam&#39;)<br>\n",
    "print(&#39;spam&#39;)<br>\n",
    "\n",
    "Answer:<br>\n",
    "The three blocks are everything inside the if statement and the lines print('bacon') and print('ham')."
   ]
  },
  {
   "cell_type": "markdown",
   "metadata": {},
   "source": [
    "#### Problem 8\n",
    "Write code that prints Hello if 1 is stored in spam, prints Howdy if 2 is stored in spam, and prints\n",
    "Greetings! if anything else is stored in spam.\n",
    "\n",
    "Answer:"
   ]
  },
  {
   "cell_type": "code",
   "execution_count": 18,
   "metadata": {},
   "outputs": [
    {
     "name": "stdout",
     "output_type": "stream",
     "text": [
      "Enter a number:: 1\n",
      "Hello\n"
     ]
    }
   ],
   "source": [
    "spam=int(input(\"Enter a number:: \"))\n",
    "if spam==1:\n",
    "    print(\"Hello\")\n",
    "elif spam==2:\n",
    "    print(\"Howdy\")\n",
    "else:\n",
    "    print(\"Greetings\")"
   ]
  },
  {
   "cell_type": "markdown",
   "metadata": {},
   "source": [
    "#### Problem 9\n",
    "If your programme is stuck in an endless loop, what keys you’ll press?\n",
    "\n",
    "Answer:<br>\n",
    "ctrl+c"
   ]
  },
  {
   "cell_type": "markdown",
   "metadata": {},
   "source": [
    "#### Problem 10\n",
    "How can you tell the difference between break and continue?\n",
    "\n",
    "Answer:<br>\n",
    "Break statement mainly used to terminate the enclosing loop such as while, do-while, for or switch statement wherever break is declared. Continue statement mainly skip the rest of loop wherever continue is declared and execute the next iteration."
   ]
  },
  {
   "cell_type": "markdown",
   "metadata": {},
   "source": [
    "#### Problem 11\n",
    "In a for loop, what is the difference between range(10), range(0, 10), and range(0, 10, 1)?\n",
    "\n",
    "Answer:<br>\n",
    "range(10) means we are not setting any start values. Its automatically assigning 0 as start value. <br>\n",
    "range(0,10) means we are assigning a start value 0.<br>\n",
    "range(0,10,1) means we are assigning a start value and also assigning the step as 1, so that it iterates with +1."
   ]
  },
  {
   "cell_type": "markdown",
   "metadata": {},
   "source": [
    "#### Problem 12\n",
    "Write a short program that prints the numbers 1 to 10 using a for loop. Then write an equivalent\n",
    "program that prints the numbers 1 to 10 using a while loop.\n",
    "\n",
    "Answer:<br>"
   ]
  },
  {
   "cell_type": "code",
   "execution_count": 1,
   "metadata": {},
   "outputs": [
    {
     "name": "stdout",
     "output_type": "stream",
     "text": [
      "1\n",
      "2\n",
      "3\n",
      "4\n",
      "5\n",
      "6\n",
      "7\n",
      "8\n",
      "9\n",
      "10\n"
     ]
    }
   ],
   "source": [
    "for no in range(1,10+1):\n",
    "    print(no)"
   ]
  },
  {
   "cell_type": "code",
   "execution_count": 2,
   "metadata": {},
   "outputs": [
    {
     "name": "stdout",
     "output_type": "stream",
     "text": [
      "1\n",
      "2\n",
      "3\n",
      "4\n",
      "5\n",
      "6\n",
      "7\n",
      "8\n",
      "9\n",
      "10\n"
     ]
    }
   ],
   "source": [
    "no=1\n",
    "while no<=10:\n",
    "    print(no)\n",
    "    no+=1"
   ]
  },
  {
   "cell_type": "markdown",
   "metadata": {},
   "source": [
    "#### Problem 13\n",
    "If you had a function named bacon() inside a module named spam, how would you call it after\n",
    "importing spam?\n",
    "\n",
    "Answer:<br>\n",
    "spam.bacon()"
   ]
  }
 ],
 "metadata": {
  "kernelspec": {
   "display_name": "Python 3",
   "language": "python",
   "name": "python3"
  },
  "language_info": {
   "codemirror_mode": {
    "name": "ipython",
    "version": 3
   },
   "file_extension": ".py",
   "mimetype": "text/x-python",
   "name": "python",
   "nbconvert_exporter": "python",
   "pygments_lexer": "ipython3",
   "version": "3.7.7"
  }
 },
 "nbformat": 4,
 "nbformat_minor": 4
}
